{
 "cells": [
  {
   "cell_type": "markdown",
   "metadata": {},
   "source": [
    "# Advanced DL and RL: Домашнее задание 1.\n",
    "<br>\n",
    "\n",
    "![](logo.png)\n",
    "\n",
    "Продвинутое машинное обучение: ДЗ 1<br>\n",
    "Задание: [link](https://docs.google.com/document/d/1u-JiK2opyDeZ2h21nnnmuumyRyYlUL5K3Id7QTWihOU/edit)<br>\n",
    "Выполнил: **Полянских Сергей**, 2021-10-12\n",
    "\n",
    "1. [Часть первая, с блекджеком и стратегиями](#Часть-первая,-с-блекджеком-и-стратегиями)\n",
    "  1. [Очень простая стратегия](#Очень-простая-стратегия)\n",
    "  2. [Обучение без модели: Q-learning](#Обучение-без-модели:-Q-learning)\n",
    "  3. [Обучение без модели: on policy MC control](#Обучение-без-модели:-on-policy-MC-control)\n",
    "2. [Часть вторая, удвоенная](#Часть-вторая,-удвоенная)\n",
    "3. [Часть третья, в главной роли — Дастин-Хоффман](#Часть-третья,-в-главной-роли-—-Дастин-Хоффман)\n",
    "4. [Часть четвёртая, опциональная](#Часть-четвёртая,-опциональная)\n",
    "  1. [Марковская модель](#Марковская-модель)\n",
    "  2. [Модель с сообщником](#Подключаем-сообщника)\n",
    "8. [Выводы](#Выводы)"
   ]
  },
  {
   "cell_type": "code",
   "execution_count": 1,
   "metadata": {},
   "outputs": [],
   "source": [
    "import matplotlib.pyplot as plt\n",
    "from tqdm import tqdm\n",
    "from consts import *\n",
    "from utils import *"
   ]
  },
  {
   "cell_type": "markdown",
   "metadata": {},
   "source": [
    "## Часть первая, с блекджеком и стратегиями"
   ]
  },
  {
   "cell_type": "markdown",
   "metadata": {},
   "source": [
    "### Очень простая стратегия"
   ]
  },
  {
   "cell_type": "code",
   "execution_count": 2,
   "metadata": {},
   "outputs": [],
   "source": [
    "class SimpleStrategy(BaseStrategy):    \n",
    "    @blackjack_gym\n",
    "    def fit(self, env):\n",
    "        hit_idx = STATES.query('total<19').index[-1] + 1\n",
    "        self.pi = np.zeros(len(STATES), dtype=int)\n",
    "        self.pi[:hit_idx] = 1"
   ]
  },
  {
   "cell_type": "code",
   "execution_count": 3,
   "metadata": {
    "scrolled": true
   },
   "outputs": [
    {
     "name": "stdout",
     "output_type": "stream",
     "text": [
      "Simulation results:\n",
      "Mean gain: -0.179\n",
      "Mean steps: 1.741\n"
     ]
    }
   ],
   "source": [
    "strategy = SimpleStrategy()\n",
    "strategy.fit()\n",
    "G_mean, l_mean = strategy.evaluate(n_exp=100000)\n",
    "\n",
    "print('Simulation results:')\n",
    "print('Mean gain:', round(G_mean, 3))\n",
    "print('Mean steps:', round(l_mean, 3))"
   ]
  },
  {
   "cell_type": "markdown",
   "metadata": {},
   "source": [
    "Мы проиграли, что и неудивительно. Ну что ж, будем знать, на какой бейзлайн ориентироваться в дальнейшем.\n",
    "\n",
    "Кстати - сразу сдаться еще выгоднее 😎"
   ]
  },
  {
   "cell_type": "code",
   "execution_count": 4,
   "metadata": {},
   "outputs": [],
   "source": [
    "class GiveUpStrategy(BaseStrategy):\n",
    "    @blackjack_gym\n",
    "    def fit(self, env):\n",
    "        self.pi = np.zeros(len(STATES), dtype=int)"
   ]
  },
  {
   "cell_type": "code",
   "execution_count": 5,
   "metadata": {},
   "outputs": [
    {
     "name": "stdout",
     "output_type": "stream",
     "text": [
      "Simulation results:\n",
      "Mean gain: -0.171\n",
      "Mean steps: 1.0\n"
     ]
    }
   ],
   "source": [
    "strategy = GiveUpStrategy()\n",
    "strategy.fit()\n",
    "G_mean, l_mean = strategy.evaluate(n_exp=100000)\n",
    "\n",
    "print('Simulation results:')\n",
    "print('Mean gain:', round(G_mean, 3))\n",
    "print('Mean steps:', round(l_mean, 3))"
   ]
  },
  {
   "cell_type": "markdown",
   "metadata": {},
   "source": [
    "### Обучение без модели: Q learning"
   ]
  },
  {
   "cell_type": "code",
   "execution_count": 8,
   "metadata": {
    "scrolled": true
   },
   "outputs": [],
   "source": [
    "class QLearningStrategy(BaseStrategy):\n",
    "    def __init__(self, n_episodes=10000, alpha=0.05, epsilon=0.1, gamma=1, seed=9):\n",
    "        self.n_episodes = n_episodes\n",
    "        self.alpha = alpha\n",
    "        self.epsilon = epsilon\n",
    "        self.gamma = gamma\n",
    "        self.seed = seed\n",
    "        self.stats = []\n",
    "\n",
    "    @blackjack_gym\n",
    "    def fit(self, env, collect_stats=False, n_exp=10000):\n",
    "        set_seed(self.seed)\n",
    "        Q = np.zeros((len(STATES), len(ACTIONS)))\n",
    "        \n",
    "        for i in tqdm(range(self.n_episodes)):\n",
    "            Q = self.episode(env=env, Q=Q)\n",
    "            self.pi = np.argmax(Q, axis=1)\n",
    "            if collect_stats and (i%10 == 0) and (i <= 2000):\n",
    "                G_mean, _ = self.evaluate(n_exp=n_exp)\n",
    "                self.stats.append(G_mean)\n",
    "\n",
    "    @blackjack_gym\n",
    "    def episode(self, env, Q):\n",
    "        state = env.reset()\n",
    "        s = STATE_TO_IDX[state]\n",
    "        done = False\n",
    "\n",
    "        while not done:\n",
    "            pi = np.argmax(Q, axis=1)\n",
    "            a = np.random.choice(ACTIONS) if random.random() < self.epsilon else pi[s]\n",
    "            state, reward, done, _ = env.step(a)\n",
    "            next_s = STATE_TO_IDX[state]\n",
    "            Q[s, a] = Q[s, a] + self.alpha*(reward + self.gamma*max(Q[next_s]) - Q[s, a])\n",
    "            s = next_s\n",
    "\n",
    "        return Q"
   ]
  },
  {
   "cell_type": "code",
   "execution_count": 9,
   "metadata": {
    "scrolled": true
   },
   "outputs": [
    {
     "name": "stderr",
     "output_type": "stream",
     "text": [
      "100%|██████████| 10000/10000 [05:22<00:00, 30.97it/s] \n"
     ]
    },
    {
     "name": "stdout",
     "output_type": "stream",
     "text": [
      "Simulation results:\n",
      "Mean gain: -0.152\n",
      "Mean steps: 1.669\n"
     ]
    }
   ],
   "source": [
    "strategy = QLearningStrategy(n_episodes=10000)\n",
    "strategy.fit(collect_stats=True, n_exp=50000)\n",
    "G_mean, l_mean = strategy.evaluate(n_exp=100000)\n",
    "\n",
    "print('Simulation results:')\n",
    "print('Mean gain:', round(G_mean, 3))\n",
    "print('Mean steps:', round(l_mean, 3))"
   ]
  },
  {
   "cell_type": "markdown",
   "metadata": {},
   "source": [
    "Результат подрос, хоть и не вывел нас пока в плюс.\n",
    "\n",
    "Статистика по ходу обучения:"
   ]
  },
  {
   "cell_type": "code",
   "execution_count": 10,
   "metadata": {},
   "outputs": [
    {
     "data": {
      "image/png": "[encoded data removed]",
      "text/plain": [
       "<Figure size 1080x432 with 1 Axes>"
      ]
     },
     "metadata": {
      "needs_background": "light"
     },
     "output_type": "display_data"
    }
   ],
   "source": [
    "plt.gcf().set_size_inches(15, 6)\n",
    "\n",
    "stats = strategy.stats\n",
    "episodes = [10*i for i in range(len(stats))]\n",
    "\n",
    "plt.plot(episodes, stats)\n",
    "plt.xlabel('Episode')\n",
    "plt.ylabel('Gain')\n",
    "plt.show()"
   ]
  },
  {
   "cell_type": "markdown",
   "metadata": {},
   "source": [
    "Оптимизируем гиперпараметры по Байесу."
   ]
  },
  {
   "cell_type": "code",
   "execution_count": null,
   "metadata": {
    "scrolled": true
   },
   "outputs": [],
   "source": [
    "param_space = [\n",
    "    skopt.space.Real(0.000001, 0.1, name='alpha'),\n",
    "    skopt.space.Real(0.001, 0.9, name='epsilon'),\n",
    "    skopt.space.Real(0.8, 1.0, name='gamma'),\n",
    "]\n",
    "static_params = {\n",
    "    'n_episodes': 10000,\n",
    "    'seed': 9,\n",
    "}\n",
    "opt_params = {\n",
    "    'n_calls': 1000, 'n_initial_points': 100, 'random_state': 9, 'n_jobs': -1\n",
    "}\n",
    "\n",
    "set_seed(9)\n",
    "results = run_optimization(param_space, static_params, opt_params, QLearningStrategy)"
   ]
  },
  {
   "cell_type": "code",
   "execution_count": 12,
   "metadata": {},
   "outputs": [
    {
     "name": "stdout",
     "output_type": "stream",
     "text": [
      "Optimization results:\n",
      "Mean Gain: -0.034\n",
      "  alpha:   0.0054156332996987315\n",
      "  epsilon: 0.867072897389788\n",
      "  gamma:   0.9741906275314811\n"
     ]
    }
   ],
   "source": [
    "print('Optimization results:')\n",
    "print('Mean Gain:', round(-results['fun'], 3))\n",
    "print('  alpha:  ', results['x'][0])\n",
    "print('  epsilon:', results['x'][1])\n",
    "print('  gamma:  ', results['x'][2])"
   ]
  },
  {
   "cell_type": "markdown",
   "metadata": {},
   "source": [
    "Результат значительно улучшился. Но все равно пока не в плюсе."
   ]
  },
  {
   "cell_type": "markdown",
   "metadata": {},
   "source": [
    "### Обучение без модели: on policy MC control "
   ]
  },
  {
   "cell_type": "code",
   "execution_count": 15,
   "metadata": {},
   "outputs": [],
   "source": [
    "class MonteCarloControlStrategy(BaseStrategy):\n",
    "    def __init__(self, n_init=1000, n_episodes=10000, epsilon=0.1, gamma=1, seed=None):\n",
    "        self.n_init = n_init\n",
    "        self.n_episodes = n_episodes\n",
    "        self.epsilon = epsilon\n",
    "        self.gamma = gamma\n",
    "        self.seed = seed\n",
    "        self.stats = []\n",
    "\n",
    "    @blackjack_gym\n",
    "    def fit(self, env, collect_stats=False, n_exp=10000):\n",
    "        set_seed(self.seed)\n",
    "        \n",
    "        R = [[[] for _ in range(len(ACTIONS))] for _ in range(len(STATES))]\n",
    "        R_all = [[[] for _ in range(len(ACTIONS))] for _ in range(len(STATES))]\n",
    "        Q = get_random_Q()\n",
    "        \n",
    "        print('run init...')\n",
    "        for _ in range(self.n_init):\n",
    "            R, R_all, Q, pi = self.episode(Q=Q, R=R, R_all=R_all, is_init=True)\n",
    "\n",
    "        print('run fit...')\n",
    "        for i in tqdm(range(self.n_episodes)):\n",
    "            R, R_all, Q, pi = self.episode(Q=Q, R=R, R_all=R_all, is_init=False)\n",
    "            self.pi = pi\n",
    "            if collect_stats and (i%10 == 0) and (i <= 2000):\n",
    "                G_mean, _ = self.evaluate(n_exp=n_exp)\n",
    "                self.stats.append(G_mean)\n",
    "        \n",
    "\n",
    "    @blackjack_gym\n",
    "    def episode(self, env, Q, R, R_all, is_init):\n",
    "        pi = np.argmax(Q, axis=1)\n",
    "        states, actions, rewards = self.run_episode_actions(env=env, pi=pi)\n",
    "        R, R_all = self.update_returns_actions(R, states, actions, rewards, R_all=R_all)\n",
    "        if not is_init:\n",
    "            Q = get_Q_by_R(R, Q_default=Q)\n",
    "            \n",
    "        pi = np.argmax(Q, axis=1)\n",
    "\n",
    "        return R, R_all, Q, pi\n",
    "\n",
    "    def run_episode_actions(self, env, pi):\n",
    "        state = env.reset()\n",
    "        s = STATE_TO_IDX[state]\n",
    "        \n",
    "        next_action = pi[s] if np.random.rand() > self.epsilon else np.random.randint(len(ACTIONS))\n",
    "        states, actions, rewards = [s], [next_action], [0]\n",
    "        done = False\n",
    "        \n",
    "        while not done:\n",
    "            state, reward, done, _ = env.step(next_action)\n",
    "            s = STATE_TO_IDX[state]\n",
    "            states.append(s)\n",
    "            next_action = pi[s] if np.random.rand() > self.epsilon else np.random.randint(len(ACTIONS))\n",
    "            actions.append(next_action)\n",
    "            rewards.append(reward)\n",
    "\n",
    "        return states, actions, rewards\n",
    "\n",
    "    def update_returns_actions(self, R, states, actions, rewards, R_all=None):\n",
    "        state_first_visit = [-1 for _ in range(len(STATES))]\n",
    "        for t, state in enumerate(states):\n",
    "            if state_first_visit[state] == -1:\n",
    "                state_first_visit[state] = t\n",
    "             \n",
    "        if R_all is not None:\n",
    "            for s in range(len(STATES)):\n",
    "                for a in range(len(ACTIONS)):\n",
    "                    R_all[s][a].append(np.nan)\n",
    "               \n",
    "        g = 0\n",
    "        if state_first_visit[states[-1]] == len(states)-1:\n",
    "            R[states[-1]][actions[-1]].append(g)\n",
    "            if R_all is not None:\n",
    "                R_all[states[t]][actions[t]][-1] = g\n",
    "                \n",
    "        for t in range(len(states)-2, -1, -1):\n",
    "            g = g*self.gamma + rewards[t + 1]\n",
    "            if state_first_visit[states[t]] == t:\n",
    "                R[states[t]][actions[t]].append(g)\n",
    "                if R_all is not None:\n",
    "                    R_all[states[t]][actions[t]][-1] = g\n",
    "                    \n",
    "        return R, R_all"
   ]
  },
  {
   "cell_type": "code",
   "execution_count": 17,
   "metadata": {
    "scrolled": true
   },
   "outputs": [
    {
     "name": "stdout",
     "output_type": "stream",
     "text": [
      "run init...\n"
     ]
    },
    {
     "name": "stderr",
     "output_type": "stream",
     "text": [
      "\r",
      "  0%|          | 0/10000 [00:00<?, ?it/s]"
     ]
    },
    {
     "name": "stdout",
     "output_type": "stream",
     "text": [
      "run fit...\n"
     ]
    },
    {
     "name": "stderr",
     "output_type": "stream",
     "text": [
      "100%|██████████| 10000/10000 [06:05<00:00, 27.38it/s]\n"
     ]
    },
    {
     "name": "stdout",
     "output_type": "stream",
     "text": [
      "Simulation results:\n",
      "Mean gain: -0.082\n",
      "Mean steps: 1.335\n"
     ]
    }
   ],
   "source": [
    "strategy = MonteCarloControlStrategy(n_episodes=10000, seed=9)\n",
    "strategy.fit(collect_stats=True, n_exp=50000)\n",
    "G_mean, l_mean = strategy.evaluate(n_exp=100000)\n",
    "\n",
    "print('Simulation results:')\n",
    "print('Mean gain:', round(G_mean, 3))\n",
    "print('Mean steps:', round(l_mean, 3))"
   ]
  },
  {
   "cell_type": "code",
   "execution_count": 18,
   "metadata": {},
   "outputs": [
    {
     "data": {
      "image/png": "[encoded data removed]",
      "text/plain": [
       "<Figure size 1080x432 with 1 Axes>"
      ]
     },
     "metadata": {
      "needs_background": "light"
     },
     "output_type": "display_data"
    }
   ],
   "source": [
    "plt.gcf().set_size_inches(15, 6)\n",
    "\n",
    "stats = strategy.stats\n",
    "episodes = [10*i for i in range(len(stats))]\n",
    "\n",
    "plt.plot(episodes, stats)\n",
    "plt.xlabel('Episode')\n",
    "plt.ylabel('Gain')\n",
    "plt.show()"
   ]
  },
  {
   "cell_type": "markdown",
   "metadata": {},
   "source": [
    "Оптимизация гиперпараметров:"
   ]
  },
  {
   "cell_type": "code",
   "execution_count": null,
   "metadata": {
    "scrolled": true
   },
   "outputs": [],
   "source": [
    "param_space = [\n",
    "    skopt.space.Real(0.001, 0.95, name='epsilon'),\n",
    "    skopt.space.Real(0.8, 1.0, name='gamma'),\n",
    "]\n",
    "static_params = {\n",
    "    'n_init': 100,\n",
    "    'n_episodes': 5000,\n",
    "    'seed': 9,\n",
    "}\n",
    "opt_params = {\n",
    "    'n_calls': 300, 'n_initial_points': 50, 'random_state': 9, 'n_jobs': -1\n",
    "}\n",
    "\n",
    "set_seed(9)\n",
    "results = run_optimization(param_space, static_params, opt_params, MonteCarloControlStrategy)"
   ]
  },
  {
   "cell_type": "code",
   "execution_count": 21,
   "metadata": {},
   "outputs": [
    {
     "name": "stdout",
     "output_type": "stream",
     "text": [
      "Optimization results:\n",
      "Mean Gain: -0.057\n",
      "  alpha:   0.526393686882335\n",
      "  epsilon: 0.8673355318560375\n"
     ]
    }
   ],
   "source": [
    "print('Optimization results:')\n",
    "print('Mean Gain:', round(-results['fun'], 3))\n",
    "print('  alpha:  ', results['x'][0])\n",
    "print('  epsilon:', results['x'][1])"
   ]
  },
  {
   "cell_type": "markdown",
   "metadata": {},
   "source": [
    "В целом, результаты похожие на G-learning. Пока в минусе."
   ]
  },
  {
   "cell_type": "markdown",
   "metadata": {},
   "source": [
    "## Часть вторая, удвоенная\n",
    "\n",
    "В качестве тестовой модели выберем Q-learning. On policy MC реализован выше и дает практически такие же результаты."
   ]
  },
  {
   "cell_type": "code",
   "execution_count": 24,
   "metadata": {},
   "outputs": [],
   "source": [
    "class QLearningDoubledStrategy(BaseDoubledStrategy):\n",
    "    def __init__(self, n_episodes=10000, alpha=0.05, epsilon=0.1, gamma=1, seed=9):\n",
    "        self.n_episodes = n_episodes\n",
    "        self.alpha = alpha\n",
    "        self.epsilon = epsilon\n",
    "        self.gamma = gamma\n",
    "        self.seed = seed\n",
    "        self.stats = []\n",
    "\n",
    "    @doubled_blackjack_gym\n",
    "    def fit(self, env, collect_stats=False, n_exp=10000):\n",
    "        set_seed(self.seed)\n",
    "        Q = np.zeros((len(STATES), len(DOUBLED_ACTIONS)))\n",
    "        \n",
    "        for i in tqdm(range(self.n_episodes)):\n",
    "            Q = self.episode(env=env, Q=Q)\n",
    "            self.pi = np.argmax(Q, axis=1)\n",
    "            if collect_stats and (i%10 == 0) and (i <= 2000):\n",
    "                G_mean, _ = self.evaluate(n_exp=n_exp)\n",
    "                self.stats.append(G_mean)\n",
    "\n",
    "    @doubled_blackjack_gym\n",
    "    def episode(self, env, Q):\n",
    "        state = env.reset()\n",
    "        s = STATE_TO_IDX[state]\n",
    "        done = False\n",
    "\n",
    "        while not done:\n",
    "            pi = np.argmax(Q, axis=1)\n",
    "            a = np.random.choice(DOUBLED_ACTIONS) if random.random() < self.epsilon else pi[s]\n",
    "            state, reward, done, _ = env.step(a)\n",
    "            next_s = STATE_TO_IDX[state]\n",
    "            Q[s, a] = Q[s, a] + self.alpha*(reward + self.gamma*max(Q[next_s]) - Q[s, a])\n",
    "            s = next_s\n",
    "\n",
    "        return Q"
   ]
  },
  {
   "cell_type": "code",
   "execution_count": 25,
   "metadata": {},
   "outputs": [
    {
     "name": "stderr",
     "output_type": "stream",
     "text": [
      "100%|██████████| 500000/500000 [06:04<00:00, 1372.51it/s] \n"
     ]
    },
    {
     "name": "stdout",
     "output_type": "stream",
     "text": [
      "Simulation results:\n",
      "Mean gain: -0.127\n",
      "Mean steps: 1.367\n"
     ]
    }
   ],
   "source": [
    "strategy = QLearningDoubledStrategy(n_episodes=500000)\n",
    "strategy.fit(collect_stats=True, n_exp=50000)\n",
    "G_mean, l_mean = strategy.evaluate(n_exp=100000)\n",
    "\n",
    "print('Simulation results:')\n",
    "print('Mean gain:', round(G_mean, 3))\n",
    "print('Mean steps:', round(l_mean, 3))"
   ]
  },
  {
   "cell_type": "code",
   "execution_count": 26,
   "metadata": {},
   "outputs": [
    {
     "data": {
      "image/png": "[encoded data removed]",
      "text/plain": [
       "<Figure size 1080x432 with 1 Axes>"
      ]
     },
     "metadata": {
      "needs_background": "light"
     },
     "output_type": "display_data"
    }
   ],
   "source": [
    "plt.gcf().set_size_inches(15, 6)\n",
    "\n",
    "stats = strategy.stats\n",
    "episodes = [10*i for i in range(len(stats))]\n",
    "\n",
    "plt.plot(episodes, stats)\n",
    "plt.xlabel('Episode')\n",
    "plt.ylabel('Gain')\n",
    "plt.show()"
   ]
  },
  {
   "cell_type": "markdown",
   "metadata": {},
   "source": [
    "На графике отображены только первые 2к итераций из 500к, поэтому основной тренд не очень виден.\n",
    "\n",
    "Оптимизируем гиперпараметры по Байесу:"
   ]
  },
  {
   "cell_type": "code",
   "execution_count": null,
   "metadata": {},
   "outputs": [],
   "source": [
    "param_space = [\n",
    "    skopt.space.Real(0.000001, 0.1, name='alpha'),\n",
    "    skopt.space.Real(0.001, 0.9, name='epsilon'),\n",
    "    skopt.space.Real(0.8, 1.0, name='gamma'),\n",
    "]\n",
    "static_params = {\n",
    "    'n_episodes': 10000,\n",
    "    'seed': 9,\n",
    "}\n",
    "opt_params = {\n",
    "    'n_calls': 1000, 'n_initial_points': 100, 'random_state': 9, 'n_jobs': -1\n",
    "}\n",
    "\n",
    "set_seed(9)\n",
    "results = run_optimization(param_space, static_params, opt_params, QLearningDoubledStrategy)"
   ]
  },
  {
   "cell_type": "code",
   "execution_count": 28,
   "metadata": {},
   "outputs": [
    {
     "name": "stdout",
     "output_type": "stream",
     "text": [
      "Optimization results:\n",
      "Mean Gain: -0.035\n",
      "  alpha:   0.018002526090181954\n",
      "  epsilon: 0.6624829926389797\n",
      "  gamma:   0.8542786155659589\n"
     ]
    }
   ],
   "source": [
    "print('Optimization results:')\n",
    "print('Mean Gain:', round(-results['fun'], 3))\n",
    "print('  alpha:  ', results['x'][0])\n",
    "print('  epsilon:', results['x'][1])\n",
    "print('  gamma:  ', results['x'][2])"
   ]
  },
  {
   "cell_type": "markdown",
   "metadata": {},
   "source": [
    "## Часть третья, в главной роли — Дастин Хоффман\n",
    "\n",
    "Будем использовать систему \"Плюс-Минус\" из [википедии](https://ru.wikipedia.org/wiki/%D0%91%D0%BB%D1%8D%D0%BA%D0%B4%D0%B6%D0%B5%D0%BA#%D0%9F%D0%BE%D0%B4%D1%81%D1%87%D1%91%D1%82_%D0%BA%D0%B0%D1%80%D1%82). Судя по матожиданиям виигрышей, системы подсчета не сильно отличаются друг от друга."
   ]
  },
  {
   "cell_type": "code",
   "execution_count": 30,
   "metadata": {},
   "outputs": [],
   "source": [
    "class QLearningDoubledCountingStrategy(BaseDoubledCountingStrategy):\n",
    "    def __init__(self, n_episodes=10000, alpha=0.05, epsilon=0.1, gamma=1, seed=9):\n",
    "        self.n_episodes = n_episodes\n",
    "        self.alpha = alpha\n",
    "        self.epsilon = epsilon\n",
    "        self.gamma = gamma\n",
    "        self.seed = seed\n",
    "        self.stats = []\n",
    "\n",
    "    @doubled_counting_blackjack_gym\n",
    "    def fit(self, env, collect_stats=False, n_exp=10000):\n",
    "        set_seed(self.seed)\n",
    "        Q = np.zeros((len(STATES_COUNTS), len(DOUBLED_ACTIONS)))\n",
    "\n",
    "        for i in tqdm(range(self.n_episodes)):\n",
    "            Q = self.episode(env=env, Q=Q)\n",
    "            self.pi = np.argmax(Q, axis=1)\n",
    "            if collect_stats and (i%10 == 0) and (i <= 2000):\n",
    "                G_mean, _ = self.evaluate(n_exp=n_exp)\n",
    "                self.stats.append(G_mean)\n",
    "\n",
    "    @doubled_counting_blackjack_gym\n",
    "    def episode(self, env, Q):\n",
    "        state = env.reset()\n",
    "        s = STATE_COUNTS_TO_IDX[state]\n",
    "        done = False\n",
    "\n",
    "        while not done:\n",
    "            pi = np.argmax(Q, axis=1)\n",
    "            a = np.random.choice(DOUBLED_ACTIONS) if random.random() < self.epsilon else pi[s]\n",
    "            state, reward, done, _ = env.step(a)\n",
    "            next_s = STATE_COUNTS_TO_IDX[state]\n",
    "            Q[s, a] = Q[s, a] + self.alpha*(reward + self.gamma*max(Q[next_s]) - Q[s, a])\n",
    "            s = next_s\n",
    "\n",
    "        return Q"
   ]
  },
  {
   "cell_type": "code",
   "execution_count": 31,
   "metadata": {},
   "outputs": [
    {
     "name": "stderr",
     "output_type": "stream",
     "text": [
      "100%|██████████| 2000000/2000000 [13:00<00:00, 2563.94it/s]\n"
     ]
    },
    {
     "name": "stdout",
     "output_type": "stream",
     "text": [
      "Simulation results:\n",
      "Mean gain: -0.024\n",
      "Mean steps: 1.376\n"
     ]
    }
   ],
   "source": [
    "strategy = QLearningDoubledCountingStrategy(n_episodes=2000000, alpha=0.0002, epsilon=0.95, gamma=1.0)\n",
    "strategy.fit(collect_stats=True, n_exp=50000)\n",
    "G_mean, l_mean = strategy.evaluate(n_exp=100000)\n",
    "\n",
    "print('Simulation results:')\n",
    "print('Mean gain:', round(G_mean, 3))\n",
    "print('Mean steps:', round(l_mean, 3))"
   ]
  },
  {
   "cell_type": "markdown",
   "metadata": {},
   "source": [
    "Мы подобрались максимально близко, но пока все-таки не выиграли. Попробуем оптимизацию."
   ]
  },
  {
   "cell_type": "code",
   "execution_count": null,
   "metadata": {
    "scrolled": true
   },
   "outputs": [],
   "source": [
    "param_space = [\n",
    "    skopt.space.Real(0.000001, 0.1, name='alpha'),\n",
    "    skopt.space.Real(0.001, 0.99, name='epsilon'),\n",
    "    skopt.space.Real(0.8, 1.0, name='gamma'),\n",
    "]\n",
    "static_params = {\n",
    "    'n_episodes': 10000,\n",
    "    'seed': 9,\n",
    "}\n",
    "opt_params = {\n",
    "    'n_calls': 1000, 'n_initial_points': 100, 'random_state': 9, 'n_jobs': -1\n",
    "}\n",
    "\n",
    "set_seed(9)\n",
    "results = run_optimization(param_space, static_params, opt_params, QLearningDoubledCountingStrategy)"
   ]
  },
  {
   "cell_type": "code",
   "execution_count": 34,
   "metadata": {},
   "outputs": [
    {
     "name": "stdout",
     "output_type": "stream",
     "text": [
      "Optimization results:\n",
      "Mean Gain: -0.13\n",
      "  alpha:   0.034729078210231\n",
      "  epsilon: 0.10261126356357829\n",
      "  gamma:   0.8385696471063862\n"
     ]
    }
   ],
   "source": [
    "print('Optimization results:')\n",
    "print('Mean Gain:', round(-results['fun'], 3))\n",
    "print('  alpha:  ', results['x'][0])\n",
    "print('  epsilon:', results['x'][1])\n",
    "print('  gamma:  ', results['x'][2])"
   ]
  },
  {
   "cell_type": "markdown",
   "metadata": {},
   "source": [
    "Похужело. Наверное 10000 эпизодов для полноценной оценки занчений функции недостаточно (выше мы использовали 2М). Ну и видимо для выигрыша все-таки нужен сплит."
   ]
  },
  {
   "cell_type": "markdown",
   "metadata": {},
   "source": [
    "## Часть четвёртая, опциональная\n",
    "\n",
    "Сплит реализовать можно, хоть и не совсем тривиально, но мне все-таки интереснее построить модель, пусть только и для простейшего случая из первой части, и она вряд ли окажется выигрышной."
   ]
  },
  {
   "cell_type": "markdown",
   "metadata": {},
   "source": [
    "### Марковская модель"
   ]
  },
  {
   "cell_type": "markdown",
   "metadata": {},
   "source": [
    "Заполним таблицу вероятностей перехода (s, a) -> (s', r). \n",
    "Выписать явные формулы, наверное, все-таки ~лень~ довольно сложно, поэтому используем MC семплирование, которое восстановит нужные распределения за нас. Правда есть пара моментов.\n",
    "\n",
    "Во-первых, надо учесть, что при данном переходе участвуют два источника рандома: неизвестная вторая карта в руке крупье и далее после действия a=0 семплирование из колоды до наполнения руки крупье. Т.е. фактически у нас не пара (s, a), а тройка (s, h, a), где h - неизвестная вторая карта в руке крупье. Ее можно сэмплировать равномерно и результаты усреднять.\n",
    "\n",
    "Во-вторых, состояние s = (21, \\*, 1) может представлять собой еще и is_natural ситуацию, что повлияет на семплирование, ибо мы теперь не можем просто расщепить сумму в руке игрока на любой состав карт - нужно рассмотреть два случая. Соответственно, в этом случае\n",
    "\n",
    "$$\n",
    "p(s',r|s,a) = p(s',r|s,a,N)p(N) + p(s',r|s,a,\\bar N)p(\\bar N),\n",
    "$$\n",
    "\n",
    "где событие $N$ состоит в том, что состояние s является is natural. Соответственно этому будем строить наше Монте-Карло для вероятностей перехода, предварительно оценив вероятность $p(N)$. Это может произойти только в самом начале с раздачи, поэтому тут вероятность не поленимся выписать прямо явно\n",
    "\n",
    "$$\n",
    "p(N) = 2*(1/13)*(4/13) \\approx 0.04734\n",
    "$$\n",
    "\n",
    "для бесконечной колоды. Для конечной колоды будет число $2*(4/52)*(16/51) \\approx 0.04827$, но у нас судя по env именно первый случай. Его и используем. \n",
    "\n",
    "В остальных случаях состояние s можно расщеплять в руку как угодно, это не будет иметь значения для семплирования и продолжения игры. Результат провалилируем на нескольких честно посчитанных вручную значениях, вроде:\n",
    "\n",
    "$$\n",
    "p((14, 2, 0), 1 | (4, 2, 0), 1) = 4/13, \\quad p((6, 2, 0), 1 | (4, 2, 0), 1) = 1/13\n",
    "$$"
   ]
  },
  {
   "cell_type": "code",
   "execution_count": 35,
   "metadata": {},
   "outputs": [],
   "source": [
    "class BellmanStrategy(BaseStrategy):\n",
    "    def __init__(self, gamma=1.0, probs=None, seed=9):\n",
    "        self.gamma = gamma\n",
    "        self.seed = seed\n",
    "        self.probs = probs\n",
    "        \n",
    "    @blackjack_gym\n",
    "    def fit(self, env):\n",
    "        V_max = self.compute_V_max()\n",
    "        pi = self.compute_policy_by_V(V_max)\n",
    "        self.pi = pi\n",
    "        \n",
    "    def compute_V_max(self):\n",
    "        V = get_random_V()\n",
    "\n",
    "        n_iter = 0\n",
    "        while True:\n",
    "            n_iter += 1\n",
    "            new_V = np.zeros((len(STATES), len(ACTIONS)))\n",
    "\n",
    "            for s in range(0, TERMINATE_IDX):\n",
    "                for a in range(len(ACTIONS)):\n",
    "                    new_Vsa = 0\n",
    "                    distr = self.probs[s, a]\n",
    "                    for s_ in range(0, TERMINATE_IDX):\n",
    "                        for r_ in range(len(REWARDS)):\n",
    "                            p_srsa = distr[s_, r_]\n",
    "                            r = IDX_TO_REWARDS[r_]\n",
    "                            new_Vsa += p_srsa*(r + self.gamma*V[s_])\n",
    "                    new_V[s, a] = new_Vsa\n",
    "\n",
    "            new_V = np.max(new_V, axis=1)\n",
    "\n",
    "            delta = np.sum((V - new_V) ** 2)\n",
    "            if delta < 0.001:\n",
    "                break\n",
    "\n",
    "            V = new_V\n",
    "        return V\n",
    "\n",
    "\n",
    "    def compute_policy_by_V(self, V):\n",
    "        pi = np.zeros((len(STATES), len(ACTIONS)))\n",
    "\n",
    "        for s in range(len(STATES)):\n",
    "            for a in range(len(ACTIONS)):\n",
    "                distr = probs[s, a]\n",
    "                pi_sa = 0\n",
    "                for s_ in range(len(STATES)):\n",
    "                    for r_ in range(len(REWARDS)):\n",
    "                        p_srsa = distr[s_, r_]\n",
    "                        r = IDX_TO_REWARDS[r_]\n",
    "                        pi_sa += p_srsa*(r + self.gamma*V[s_])\n",
    "                pi[s, a] = pi_sa\n",
    "\n",
    "        pi = np.argmax(pi, axis=1)   \n",
    "        return pi\n",
    "\n",
    "\n",
    "    @blackjack_gym\n",
    "    def estimate_probs(self, env, n_samples=10000):\n",
    "        set_seed(self.seed)\n",
    "\n",
    "        p_natural = 2*(1/13)*(4/13)\n",
    "        probs = np.zeros((len(STATES), len(ACTIONS), len(STATES), len(REWARDS)))\n",
    "        \n",
    "        for sid in tqdm(IDX_TO_STATE):\n",
    "            s = IDX_TO_STATE[sid]\n",
    "\n",
    "            if s[0] > 21:  # bust - terminal state\n",
    "                probs[sid, :, sid, 1] = 1\n",
    "                continue\n",
    "\n",
    "            for a in ACTIONS:\n",
    "                distr = probs[sid, a]\n",
    "\n",
    "                for _ in range(n_samples):\n",
    "                    env.reset()\n",
    "                    env.dealer[0] = s[1]\n",
    "\n",
    "                    is_natural = False\n",
    "                    if (s[0] == 21) and (s[2] == 1):\n",
    "                        is_natural = np.random.binomial(1, p_natural, size=1)[0]\n",
    "\n",
    "                    env.player = guess_hand(s, is_natural=is_natural)\n",
    "                    s_next, r, done, _ = env.step(a)\n",
    "                    sid_next = STATE_TO_IDX[s_next]\n",
    "                    rid = REWARDS_TO_IDX[r]\n",
    "                    distr[sid_next, rid] += 1\n",
    "\n",
    "        probs = probs / (np.expand_dims(probs.sum(axis=(2,3)), axis=(2,3)) + 0.0000001)\n",
    "        self.probs = probs\n",
    "        \n",
    "        print('Ура! У нас есть вероятности перехода. Можно будить Беллмана.')\n",
    "\n",
    "        # sanity checks\n",
    "        assert np.allclose(probs[1,1, 122], [0.0, 4/13, 0.0, 0.0], atol=0.01)\n",
    "        assert np.allclose(probs[1,1, 41],  [0.0, 1/13, 0.0, 0.0], atol=0.01)\n",
    "        assert np.allclose(probs[1,1, 51],  [0.0, 1/13, 0.0, 0.0], atol=0.01)\n",
    "        assert np.allclose(probs[1,1, 61],  [0.0, 1/13, 0.0, 0.0], atol=0.01)\n",
    "        assert np.allclose(probs[261, 0, 261],  [0., 0.3638, 0.6048, 0.0314], atol=0.01)\n",
    "        for sid in range(len(STATES)):\n",
    "            assert [sid] == np.where(probs[sid, 0].sum(axis=1) > 0)[0]"
   ]
  },
  {
   "cell_type": "code",
   "execution_count": 41,
   "metadata": {
    "scrolled": true
   },
   "outputs": [
    {
     "name": "stdout",
     "output_type": "stream",
     "text": [
      "Simulation results:\n",
      "Mean gain: -0.03\n",
      "Mean steps: 1.617\n"
     ]
    }
   ],
   "source": [
    "strategy = BellmanStrategy(gamma=0.95)\n",
    "strategy.estimate_probs(n_samples=50000)\n",
    "strategy.fit()\n",
    "G_mean, l_mean = strategy.evaluate(n_exp=100000)\n",
    "\n",
    "print('Simulation results:')\n",
    "print('Mean gain:', round(G_mean, 3))\n",
    "print('Mean steps:', round(l_mean, 3))"
   ]
  },
  {
   "cell_type": "markdown",
   "metadata": {},
   "source": [
    "Весьма неплохой результат для обычного блэкджека. Модель действительно полезно иметь."
   ]
  },
  {
   "cell_type": "markdown",
   "metadata": {},
   "source": [
    "### Подключаем сообщника\n",
    "\n",
    "Идея в том, чтобы играть по минимальным ставкам, когда колода \"холодная\" (счет < 15) и начинать ставить много, когда колода \"горячая\" (счет >= 15). Судя по фильму \"Двадцать одно\" одному человеку это реализовать не позволят - для определения степени нагретости колоды потребуется сообщник. Технически это не сильно отличается от обычной игры с удвоением и подсчетом - просто начинаем повышать ставки, когда колода становится \"горячей\" (выигрыши и проигрыши сообщника естественно считать нашими собственными, раз уж мы работаем в команде)."
   ]
  },
  {
   "cell_type": "code",
   "execution_count": 2,
   "metadata": {},
   "outputs": [],
   "source": [
    "class QLearningAccomplingStrategy(BaseAccompliceStrategy):\n",
    "    def __init__(self, n_episodes=10000, alpha=0.05, epsilon=0.1, gamma=1, seed=9):\n",
    "        self.n_episodes = n_episodes\n",
    "        self.alpha = alpha\n",
    "        self.epsilon = epsilon\n",
    "        self.gamma = gamma\n",
    "        self.seed = seed\n",
    "        self.stats = []\n",
    "\n",
    "    @accomplice_blackjack_gym\n",
    "    def fit(self, env, collect_stats=False, n_exp=10000):\n",
    "        set_seed(self.seed)\n",
    "        Q = np.zeros((len(STATES_COUNTS), len(DOUBLED_ACTIONS)))\n",
    "\n",
    "        for i in tqdm(range(self.n_episodes)):\n",
    "            Q = self.episode(env=env, Q=Q)\n",
    "            self.pi = np.argmax(Q, axis=1)\n",
    "            if collect_stats and (i%10 == 0) and (i <= 2000):\n",
    "                G_mean, _ = self.evaluate(n_exp=n_exp)\n",
    "                self.stats.append(G_mean)\n",
    "\n",
    "    @accomplice_blackjack_gym\n",
    "    def episode(self, env, Q):\n",
    "        state = env.reset()\n",
    "        s = STATE_COUNTS_TO_IDX[state]\n",
    "        done = False\n",
    "\n",
    "        while not done:\n",
    "            pi = np.argmax(Q, axis=1)\n",
    "            a = np.random.choice(DOUBLED_ACTIONS) if random.random() < self.epsilon else pi[s]\n",
    "            state, reward, done, _ = env.step(a)\n",
    "            next_s = STATE_COUNTS_TO_IDX[state]\n",
    "            Q[s, a] = Q[s, a] + self.alpha*(reward + self.gamma*max(Q[next_s]) - Q[s, a])\n",
    "            s = next_s\n",
    "\n",
    "        return Q"
   ]
  },
  {
   "cell_type": "code",
   "execution_count": 3,
   "metadata": {
    "scrolled": true
   },
   "outputs": [
    {
     "name": "stderr",
     "output_type": "stream",
     "text": [
      "100%|██████████| 2000000/2000000 [14:15<00:00, 2336.66it/s]\n"
     ]
    },
    {
     "name": "stdout",
     "output_type": "stream",
     "text": [
      "Simulation results:\n",
      "Mean gain: -0.016\n",
      "Mean steps: 1.377\n"
     ]
    }
   ],
   "source": [
    "strategy = QLearningAccomplingStrategy(n_episodes=2000000, alpha=0.0002, epsilon=0.95, gamma=1.0)\n",
    "strategy.fit(collect_stats=True, n_exp=50000)\n",
    "G_mean, l_mean = strategy.evaluate(n_exp=100000)\n",
    "\n",
    "print('Simulation results:')\n",
    "print('Mean gain:', round(G_mean, 3))\n",
    "print('Mean steps:', round(l_mean, 3))"
   ]
  },
  {
   "cell_type": "code",
   "execution_count": null,
   "metadata": {},
   "outputs": [],
   "source": [
    "param_space = [\n",
    "    skopt.space.Real(0.000001, 0.5, name='alpha'),\n",
    "    skopt.space.Real(0.001, 0.99, name='epsilon'),\n",
    "    skopt.space.Real(0.8, 1.0, name='gamma'),\n",
    "]\n",
    "static_params = {\n",
    "    'n_episodes': 500000,\n",
    "    'seed': 9,\n",
    "}\n",
    "opt_params = {\n",
    "    'n_calls': 500, 'n_initial_points': 50, 'random_state': 9, 'n_jobs': -1\n",
    "}\n",
    "\n",
    "set_seed(9)\n",
    "results = run_optimization(param_space, static_params, opt_params, QLearningAccomplingStrategy)"
   ]
  },
  {
   "cell_type": "code",
   "execution_count": 6,
   "metadata": {},
   "outputs": [
    {
     "name": "stdout",
     "output_type": "stream",
     "text": [
      "Optimization results:\n",
      "Mean Gain: -0.016\n",
      "  alpha:   0.0019090750382208391\n",
      "  epsilon: 0.9887574441177153\n",
      "  gamma:   0.8086577156581382\n"
     ]
    }
   ],
   "source": [
    "print('Optimization results:')\n",
    "print('Mean Gain:', round(-results['fun'], 3))\n",
    "print('  alpha:  ', results['x'][0])\n",
    "print('  epsilon:', results['x'][1])\n",
    "print('  gamma:  ', results['x'][2])"
   ]
  },
  {
   "cell_type": "markdown",
   "metadata": {},
   "source": [
    "Увы, подельник тоже не помог."
   ]
  },
  {
   "cell_type": "markdown",
   "metadata": {},
   "source": [
    "## Выводы"
   ]
  },
  {
   "cell_type": "markdown",
   "metadata": {},
   "source": [
    "- казино обыграть крайне сложно если вообще возможно в обозримом для обычного человека интервале времени\n",
    "- без split-а, повидимому, выграть у казино вообще невозможно. Меня всегда удивляло, насколько сбалансированны \"официальные\" азартные игры в этом плане.\n",
    "- модель (вероятности перехода) повышает общий скор и скорость обучения по сравнению с безмодельными подходами\n",
    "- Q-learning прост в имплементации, но немного проигрывает MC control\n"
   ]
  }
 ],
 "metadata": {
  "kernelspec": {
   "display_name": "Python 3",
   "language": "python",
   "name": "python3"
  },
  "language_info": {
   "codemirror_mode": {
    "name": "ipython",
    "version": 3
   },
   "file_extension": ".py",
   "mimetype": "text/x-python",
   "name": "python",
   "nbconvert_exporter": "python",
   "pygments_lexer": "ipython3",
   "version": "3.8.5"
  }
 },
 "nbformat": 4,
 "nbformat_minor": 4
}
